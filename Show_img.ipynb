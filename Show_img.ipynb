{
 "cells": [
  {
   "cell_type": "code",
   "execution_count": 1,
   "id": "5d2486bc",
   "metadata": {},
   "outputs": [],
   "source": [
    "import cv2\n",
    "import numpy as np\n",
    "import pymysql"
   ]
  },
  {
   "cell_type": "code",
   "execution_count": 6,
   "id": "789ff097",
   "metadata": {},
   "outputs": [
    {
     "name": "stdout",
     "output_type": "stream",
     "text": [
      "seq =  97\n",
      "seq =  96\n",
      "seq =  95\n",
      "seq =  94\n",
      "seq =  93\n",
      "seq =  92\n",
      "seq =  91\n",
      "seq =  90\n",
      "seq =  89\n",
      "seq =  88\n",
      "seq =  87\n",
      "seq =  86\n",
      "seq =  85\n",
      "seq =  84\n",
      "seq =  83\n",
      "seq =  82\n",
      "seq =  81\n",
      "seq =  80\n",
      "seq =  79\n",
      "seq =  78\n",
      "seq =  77\n",
      "seq =  76\n",
      "seq =  75\n",
      "seq =  74\n"
     ]
    },
    {
     "ename": "KeyboardInterrupt",
     "evalue": "",
     "output_type": "error",
     "traceback": [
      "\u001b[1;31m---------------------------------------------------------------------------\u001b[0m",
      "\u001b[1;31mKeyboardInterrupt\u001b[0m                         Traceback (most recent call last)",
      "\u001b[1;32m~\\AppData\\Local\\Temp\\ipykernel_22832\\2156070578.py\u001b[0m in \u001b[0;36m<module>\u001b[1;34m\u001b[0m\n\u001b[0;32m     14\u001b[0m     \u001b[0mimg_\u001b[0m \u001b[1;33m=\u001b[0m \u001b[0mcv2\u001b[0m\u001b[1;33m.\u001b[0m\u001b[0mimdecode\u001b[0m\u001b[1;33m(\u001b[0m\u001b[0mimg_arr\u001b[0m\u001b[1;33m,\u001b[0m \u001b[0mcv2\u001b[0m\u001b[1;33m.\u001b[0m\u001b[0mIMREAD_COLOR\u001b[0m\u001b[1;33m)\u001b[0m\u001b[1;33m\u001b[0m\u001b[1;33m\u001b[0m\u001b[0m\n\u001b[0;32m     15\u001b[0m     \u001b[0mcv2\u001b[0m\u001b[1;33m.\u001b[0m\u001b[0mimshow\u001b[0m\u001b[1;33m(\u001b[0m\u001b[1;34m\"get_data\"\u001b[0m\u001b[1;33m,\u001b[0m \u001b[0mimg_\u001b[0m\u001b[1;33m)\u001b[0m\u001b[1;33m\u001b[0m\u001b[1;33m\u001b[0m\u001b[0m\n\u001b[1;32m---> 16\u001b[1;33m     \u001b[0mcv2\u001b[0m\u001b[1;33m.\u001b[0m\u001b[0mwaitKey\u001b[0m\u001b[1;33m(\u001b[0m\u001b[1;36m1000\u001b[0m\u001b[1;33m)\u001b[0m\u001b[1;33m\u001b[0m\u001b[1;33m\u001b[0m\u001b[0m\n\u001b[0m",
      "\u001b[1;31mKeyboardInterrupt\u001b[0m: "
     ]
    }
   ],
   "source": [
    "con2 = pymysql.connect(host='192.168.20.209', user='root', password='givet',\n",
    "                      db='Pipe', charset='utf8')  # 한글처리 (charset = 'utf8')\n",
    "cur2 = con2.cursor()\n",
    "\n",
    "#sql2 = \"SELECT * from pipe_normal ORDER BY seq DESC limit 1;\"\n",
    "sql2 = \"SELECT * from pipe_data ORDER BY seq DESC;\"\n",
    "\n",
    "\n",
    "cur2.execute(sql2)\n",
    "record = cur2.fetchall()\n",
    "for row in record:\n",
    "    print(\"seq = \", row[0])\n",
    "    img_arr = np.frombuffer(row[1], dtype=np.uint8)\n",
    "    img_ = cv2.imdecode(img_arr, cv2.IMREAD_COLOR)\n",
    "    cv2.imshow(\"get_data\", img_)\n",
    "    cv2.waitKey(1000)\n"
   ]
  },
  {
   "cell_type": "code",
   "execution_count": null,
   "id": "4928e1d2",
   "metadata": {},
   "outputs": [],
   "source": []
  },
  {
   "cell_type": "code",
   "execution_count": null,
   "id": "428be75c",
   "metadata": {},
   "outputs": [],
   "source": []
  },
  {
   "cell_type": "code",
   "execution_count": null,
   "id": "9138184f",
   "metadata": {},
   "outputs": [],
   "source": []
  }
 ],
 "metadata": {
  "kernelspec": {
   "display_name": "base",
   "language": "python",
   "name": "python3"
  },
  "language_info": {
   "codemirror_mode": {
    "name": "ipython",
    "version": 3
   },
   "file_extension": ".py",
   "mimetype": "text/x-python",
   "name": "python",
   "nbconvert_exporter": "python",
   "pygments_lexer": "ipython3",
   "version": "3.9.13"
  },
  "vscode": {
   "interpreter": {
    "hash": "4bea609fa62f51f86b2bfc03c44d8a0c45eb8311f58debf49ddfb0b6c29ce9f7"
   }
  }
 },
 "nbformat": 4,
 "nbformat_minor": 5
}
