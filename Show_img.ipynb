{
 "cells": [
  {
   "cell_type": "code",
   "execution_count": 1,
   "id": "5d2486bc",
   "metadata": {},
   "outputs": [],
   "source": [
    "import cv2\n",
    "import numpy as np\n",
    "import pymysql"
   ]
  },
  {
   "cell_type": "code",
   "execution_count": 2,
   "id": "789ff097",
   "metadata": {},
   "outputs": [],
   "source": [
    "con2 = pymysql.connect(host='192.168.20.209', user='root', password='givet',\n",
    "                      db='Pipe', charset='utf8')  # 한글처리 (charset = 'utf8')\n",
    "cur2 = con2.cursor()\n",
    "\n",
    "sql2 = \"SELECT * from pipe_normal ORDER BY seq DESC limit 1;\"\n",
    "\n",
    "\n",
    "cur2.execute(sql2)\n",
    "record = cur2.fetchall()\n",
    "for row in record:\n",
    "    print(\"seq = \", row[0])\n",
    "    img_arr = np.frombuffer(row[1], dtype=np.uint8)\n",
    "    img_ = cv2.imdecode(img_arr, cv2.IMREAD_COLOR)\n",
    "    print(\"seq = \", len(img_))\n",
    "    cv2.imshow(\"get_data\", img_)\n",
    "    cv2.waitKey(0)\n"
   ]
  },
  {
   "cell_type": "code",
   "execution_count": null,
   "id": "4928e1d2",
   "metadata": {},
   "outputs": [],
   "source": []
  },
  {
   "cell_type": "code",
   "execution_count": null,
   "id": "428be75c",
   "metadata": {},
   "outputs": [],
   "source": []
  },
  {
   "cell_type": "code",
   "execution_count": null,
   "id": "9138184f",
   "metadata": {},
   "outputs": [],
   "source": []
  }
 ],
 "metadata": {
  "kernelspec": {
   "display_name": "Python 3 (ipykernel)",
   "language": "python",
   "name": "python3"
  },
  "language_info": {
   "codemirror_mode": {
    "name": "ipython",
    "version": 3
   },
   "file_extension": ".py",
   "mimetype": "text/x-python",
   "name": "python",
   "nbconvert_exporter": "python",
   "pygments_lexer": "ipython3",
   "version": "3.9.13"
  }
 },
 "nbformat": 4,
 "nbformat_minor": 5
}
